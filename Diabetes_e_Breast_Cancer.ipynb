{
  "nbformat": 4,
  "nbformat_minor": 0,
  "metadata": {
    "colab": {
      "name": " Diabetes e Breast Cancer.ipynb",
      "provenance": [],
      "include_colab_link": true
    },
    "kernelspec": {
      "name": "python3",
      "display_name": "Python 3"
    }
  },
  "cells": [
    {
      "cell_type": "markdown",
      "metadata": {
        "id": "view-in-github",
        "colab_type": "text"
      },
      "source": [
        "<a href=\"https://colab.research.google.com/github/luiz-star/Diabetes_Puc_rio/blob/main/Diabetes_e_Breast_Cancer.ipynb\" target=\"_parent\"><img src=\"https://colab.research.google.com/assets/colab-badge.svg\" alt=\"Open In Colab\"/></a>"
      ]
    },
    {
      "cell_type": "markdown",
      "metadata": {
        "id": "xjOpLDcTBbbM"
      },
      "source": [
        "# Especialização em Ciência de Dados - PUC-Rio\n",
        "# Machine Learning -\n",
        "## Pré-processamento de Dados - Exemplos"
      ]
    },
    {
      "cell_type": "markdown",
      "metadata": {
        "id": "FhGq7S37zh9c"
      },
      "source": [
        "## Prática 1: Transformações Numéricas com dataset Diabetes"
      ]
    },
    {
      "cell_type": "markdown",
      "metadata": {
        "id": "YX2Js2zJB4UT"
      },
      "source": [
        "Para este experimento, vamos utilizar o dataset **Pima Indians Diabetes**, que  é originalmente do Instituto Nacional de Diabetes e Doenças Digestivas e Renais. Seu objetivo dé prever se um paciente tem ou não diabetes, com base em certas medidas de diagnóstico médico. Este é um subconjunto de um dataset maior e aqui, todos os pacientes são mulheres com pelo menos 21 anos de idade e de herança indígena Pima.\n",
        "\n",
        "Os conjuntos de dados consistem em vários atributos ​​de exames médicos e uma variável de classe. As variáveis ​​preditoras incluem o número de gestações que a paciente teve, seu IMC, nível de insulina, idade e assim por diante.\n",
        "Para mais detalhes sobre este dataset, consulte: https://www.kaggle.com/uciml/pima-indians-diabetes-database\n",
        "\n",
        "**Informações sobre os atributos:**\n",
        "1. **preg** - Number of times pregnant \n",
        "2. **plas** - Plasma glucose concentration a 2 hours in an oral glucose tolerance test \n",
        "3. **pres** - Diastolic blood pressure (mm Hg) \n",
        "4. **skin** - Triceps skin fold thickness (mm) \n",
        "5. **test** - 2-Hour serum insulin (mu U/ml) \n",
        "6. **mass** - Body mass index (weight in kg/(height in m)^2) \n",
        "7. **pedi** - Diabetes pedigree function \n",
        "8. **age** - Age (years) \n",
        "9. **class** - Class variable (0 or 1) "
      ]
    },
    {
      "cell_type": "code",
      "metadata": {
        "id": "sPMp7QfrBZNd"
      },
      "source": [
        "# configuração para não exibir os warnings\n",
        "import warnings\n",
        "warnings.filterwarnings(\"ignore\")\n",
        "\n",
        "# Importação de pacotes\n",
        "import pandas as pd\n",
        "import numpy as np\n",
        "import missingno as ms # para tratamento de missings\n",
        "from sklearn.preprocessing import MinMaxScaler # para normalização\n",
        "from sklearn.preprocessing import Normalizer # para normalização\n",
        "from sklearn.preprocessing import StandardScaler # para padronização"
      ],
      "execution_count": null,
      "outputs": []
    },
    {
      "cell_type": "markdown",
      "metadata": {
        "id": "w5IyySQKB71H"
      },
      "source": [
        "### Carga do Dataset"
      ]
    },
    {
      "cell_type": "code",
      "metadata": {
        "id": "56kOY9pQB-h6",
        "colab": {
          "base_uri": "https://localhost:8080/",
          "height": 201
        },
        "outputId": "930defb4-9090-4af9-c3fa-9ebbd3c58052"
      },
      "source": [
        "# Carrega arquivo csv usando Pandas usando uma URL\n",
        "\n",
        "# Informa a URL de importação do dataset\n",
        "url = \"https://raw.githubusercontent.com/jbrownlee/Datasets/master/pima-indians-diabetes.data.csv\"\n",
        "\n",
        "# Informa o cabeçalho das colunas\n",
        "colunas = ['preg', 'plas', 'pres', 'skin', 'test', 'mass', 'pedi', 'age', 'class']\n",
        "\n",
        "# Lê o arquivo utilizando as colunas informadas\n",
        "dataset = pd.read_csv(url, names=colunas, skiprows=0, delimiter=',')\n",
        "\n",
        "# exibindo as primeiras linhas\n",
        "dataset.head()"
      ],
      "execution_count": null,
      "outputs": [
        {
          "output_type": "execute_result",
          "data": {
            "text/html": [
              "<div>\n",
              "<style scoped>\n",
              "    .dataframe tbody tr th:only-of-type {\n",
              "        vertical-align: middle;\n",
              "    }\n",
              "\n",
              "    .dataframe tbody tr th {\n",
              "        vertical-align: top;\n",
              "    }\n",
              "\n",
              "    .dataframe thead th {\n",
              "        text-align: right;\n",
              "    }\n",
              "</style>\n",
              "<table border=\"1\" class=\"dataframe\">\n",
              "  <thead>\n",
              "    <tr style=\"text-align: right;\">\n",
              "      <th></th>\n",
              "      <th>preg</th>\n",
              "      <th>plas</th>\n",
              "      <th>pres</th>\n",
              "      <th>skin</th>\n",
              "      <th>test</th>\n",
              "      <th>mass</th>\n",
              "      <th>pedi</th>\n",
              "      <th>age</th>\n",
              "      <th>class</th>\n",
              "    </tr>\n",
              "  </thead>\n",
              "  <tbody>\n",
              "    <tr>\n",
              "      <th>0</th>\n",
              "      <td>6</td>\n",
              "      <td>148</td>\n",
              "      <td>72</td>\n",
              "      <td>35</td>\n",
              "      <td>0</td>\n",
              "      <td>33.6</td>\n",
              "      <td>0.627</td>\n",
              "      <td>50</td>\n",
              "      <td>1</td>\n",
              "    </tr>\n",
              "    <tr>\n",
              "      <th>1</th>\n",
              "      <td>1</td>\n",
              "      <td>85</td>\n",
              "      <td>66</td>\n",
              "      <td>29</td>\n",
              "      <td>0</td>\n",
              "      <td>26.6</td>\n",
              "      <td>0.351</td>\n",
              "      <td>31</td>\n",
              "      <td>0</td>\n",
              "    </tr>\n",
              "    <tr>\n",
              "      <th>2</th>\n",
              "      <td>8</td>\n",
              "      <td>183</td>\n",
              "      <td>64</td>\n",
              "      <td>0</td>\n",
              "      <td>0</td>\n",
              "      <td>23.3</td>\n",
              "      <td>0.672</td>\n",
              "      <td>32</td>\n",
              "      <td>1</td>\n",
              "    </tr>\n",
              "    <tr>\n",
              "      <th>3</th>\n",
              "      <td>1</td>\n",
              "      <td>89</td>\n",
              "      <td>66</td>\n",
              "      <td>23</td>\n",
              "      <td>94</td>\n",
              "      <td>28.1</td>\n",
              "      <td>0.167</td>\n",
              "      <td>21</td>\n",
              "      <td>0</td>\n",
              "    </tr>\n",
              "    <tr>\n",
              "      <th>4</th>\n",
              "      <td>0</td>\n",
              "      <td>137</td>\n",
              "      <td>40</td>\n",
              "      <td>35</td>\n",
              "      <td>168</td>\n",
              "      <td>43.1</td>\n",
              "      <td>2.288</td>\n",
              "      <td>33</td>\n",
              "      <td>1</td>\n",
              "    </tr>\n",
              "  </tbody>\n",
              "</table>\n",
              "</div>"
            ],
            "text/plain": [
              "   preg  plas  pres  skin  test  mass   pedi  age  class\n",
              "0     6   148    72    35     0  33.6  0.627   50      1\n",
              "1     1    85    66    29     0  26.6  0.351   31      0\n",
              "2     8   183    64     0     0  23.3  0.672   32      1\n",
              "3     1    89    66    23    94  28.1  0.167   21      0\n",
              "4     0   137    40    35   168  43.1  2.288   33      1"
            ]
          },
          "metadata": {
            "tags": []
          },
          "execution_count": 2
        }
      ]
    },
    {
      "cell_type": "markdown",
      "metadata": {
        "id": "_4NTo5vuCJgz"
      },
      "source": [
        "### Tratamento de Missings"
      ]
    },
    {
      "cell_type": "code",
      "metadata": {
        "id": "ClIvMaw4CMNb",
        "colab": {
          "base_uri": "https://localhost:8080/"
        },
        "outputId": "2ed75ca4-a8ad-48d5-822f-4c93815ee1f9"
      },
      "source": [
        "# verificando nulls no dataset\n",
        "dataset.isnull().sum()"
      ],
      "execution_count": null,
      "outputs": [
        {
          "output_type": "execute_result",
          "data": {
            "text/plain": [
              "preg     0\n",
              "plas     0\n",
              "pres     0\n",
              "skin     0\n",
              "test     0\n",
              "mass     0\n",
              "pedi     0\n",
              "age      0\n",
              "class    0\n",
              "dtype: int64"
            ]
          },
          "metadata": {
            "tags": []
          },
          "execution_count": 3
        }
      ]
    },
    {
      "cell_type": "markdown",
      "metadata": {
        "id": "K6vKre053Mv8"
      },
      "source": [
        "Já sabemos que este dataset não tem missings aparentes (o comando isnull() não indica nenhum valor missing inicialmente), mas temos alguns valores = zero, em colunas que zero é um dado inválido.\n",
        "\n",
        "Vamos então marcar os valores zero como missings para que possamos decidir o que fazer com eles (exemplos: eliminar linhas, eliminar colunas, fazer a imputação dos valores fantantes...).\n",
        "\n",
        "É sempre uma boa prática salvar uma cópia do dataset original antes de fazer qualquer tipo de manipulação."
      ]
    },
    {
      "cell_type": "code",
      "metadata": {
        "id": "wx1XJYPS0MzO",
        "colab": {
          "base_uri": "https://localhost:8080/",
          "height": 511
        },
        "outputId": "37c0665e-1641-4a04-fa70-f2511949d978"
      },
      "source": [
        "# salvando um novo dataset para tratamento de missings\n",
        "\n",
        "# recuperando os nomes das colunas\n",
        "col = list(dataset.columns)\n",
        "\n",
        "# o novo dataset irá conter todas as colunas com exceção da última (classe)\n",
        "atributos = dataset[col[0:-1]]\n",
        "\n",
        "# substituindo os zeros por NaN\n",
        "atributos.replace(0, np.nan, inplace=True)\n",
        "\n",
        "# exibindo visualização matricial da nulidade do dataset\n",
        "ms.matrix(atributos)"
      ],
      "execution_count": null,
      "outputs": [
        {
          "output_type": "execute_result",
          "data": {
            "text/plain": [
              "<matplotlib.axes._subplots.AxesSubplot at 0x7f908c4d8390>"
            ]
          },
          "metadata": {
            "tags": []
          },
          "execution_count": 4
        },
        {
          "output_type": "display_data",
          "data": {
            "image/png": "[encoded data removed]",
            "text/plain": [
              "<Figure size 1800x720 with 2 Axes>"
            ]
          },
          "metadata": {
            "tags": [],
            "needs_background": "light"
          }
        }
      ]
    },
    {
      "cell_type": "code",
      "metadata": {
        "id": "H7mzejPe0ucv",
        "colab": {
          "base_uri": "https://localhost:8080/"
        },
        "outputId": "e1a246d2-7d25-46d6-eee5-da51aafa68b5"
      },
      "source": [
        "# verificando novamente nulls no dataset\n",
        "atributos.isnull().sum()"
      ],
      "execution_count": null,
      "outputs": [
        {
          "output_type": "execute_result",
          "data": {
            "text/plain": [
              "preg    111\n",
              "plas      5\n",
              "pres     35\n",
              "skin    227\n",
              "test    374\n",
              "mass     11\n",
              "pedi      0\n",
              "age       0\n",
              "dtype: int64"
            ]
          },
          "metadata": {
            "tags": []
          },
          "execution_count": 5
        }
      ]
    },
    {
      "cell_type": "markdown",
      "metadata": {
        "id": "1qle_yKa6fr8"
      },
      "source": [
        "Vamos remover os atriburos *skin* e *test*, pois há muitos valores faltantes em relação ao total de registros. OBS: esta é apenas uma das opções possíveis!"
      ]
    },
    {
      "cell_type": "code",
      "metadata": {
        "id": "5hpenGL26T0V",
        "colab": {
          "base_uri": "https://localhost:8080/",
          "height": 511
        },
        "outputId": "29206aaa-6918-4519-fe69-608b20a533b8"
      },
      "source": [
        "# removendo as colunas 'skin' e 'test'\n",
        "atributos.drop(['skin', 'test'], axis=1, inplace= True)\n",
        "\n",
        "# exibindo visualização matricial da nulidade do dataset\n",
        "ms.matrix(atributos)"
      ],
      "execution_count": null,
      "outputs": [
        {
          "output_type": "execute_result",
          "data": {
            "text/plain": [
              "<matplotlib.axes._subplots.AxesSubplot at 0x7f9083f850d0>"
            ]
          },
          "metadata": {
            "tags": []
          },
          "execution_count": 6
        },
        {
          "output_type": "display_data",
          "data": {
            "image/png": "[encoded data removed]",
            "text/plain": [
              "<Figure size 1800x720 with 2 Axes>"
            ]
          },
          "metadata": {
            "tags": [],
            "needs_background": "light"
          }
        }
      ]
    },
    {
      "cell_type": "markdown",
      "metadata": {
        "id": "TLHxVX_X7doW"
      },
      "source": [
        "Vamos agora tratar as demais colunas com missings. Vamos substituir os Na's de *preg* por **zero**, pois é possível que haja mulheres no dataset que nunca tenham ficado grávidas. Para os demais atributos, vamos substituir pela **mediana** da coluna. OBS: esta é apenas uma das opções possíveis!"
      ]
    },
    {
      "cell_type": "code",
      "metadata": {
        "id": "0s5gOm036wkY",
        "colab": {
          "base_uri": "https://localhost:8080/",
          "height": 511
        },
        "outputId": "634f6d08-433c-4142-f908-796d8a78e127"
      },
      "source": [
        "# substituindo os NaN de 'preg' por 0\n",
        "atributos['preg'].fillna(0, inplace=True)\n",
        "\n",
        "# substituindo os NaN de 'plas', 'pres'e 'mass' pela mediana da coluna\n",
        "atributos['plas'].fillna(atributos['plas'].median(), inplace=True)\n",
        "atributos['pres'].fillna(atributos['pres'].median(), inplace=True)\n",
        "atributos['mass'].fillna(atributos['mass'].median(), inplace=True)\n",
        "\n",
        "# exibindo visualização matricial da nulidade do dataset\n",
        "ms.matrix(atributos)"
      ],
      "execution_count": null,
      "outputs": [
        {
          "output_type": "execute_result",
          "data": {
            "text/plain": [
              "<matplotlib.axes._subplots.AxesSubplot at 0x7f9083f2fd10>"
            ]
          },
          "metadata": {
            "tags": []
          },
          "execution_count": 7
        },
        {
          "output_type": "display_data",
          "data": {
            "image/png": "[encoded data removed]",
            "text/plain": [
              "<Figure size 1800x720 with 2 Axes>"
            ]
          },
          "metadata": {
            "tags": [],
            "needs_background": "light"
          }
        }
      ]
    },
    {
      "cell_type": "code",
      "metadata": {
        "id": "fizbZtE09dnd",
        "colab": {
          "base_uri": "https://localhost:8080/",
          "height": 201
        },
        "outputId": "29f16f33-b1a5-4211-b26f-4307b36dd5a8"
      },
      "source": [
        "# Guardando o novo dataset para testes futuros\n",
        "datasetSemMissings = atributos\n",
        "\n",
        "# incluindo a coluna 'class' no novo dataset\n",
        "datasetSemMissings['class'] = dataset['class']\n",
        "\n",
        "# exibindo as primeiras linhas\n",
        "datasetSemMissings.head()"
      ],
      "execution_count": null,
      "outputs": [
        {
          "output_type": "execute_result",
          "data": {
            "text/html": [
              "<div>\n",
              "<style scoped>\n",
              "    .dataframe tbody tr th:only-of-type {\n",
              "        vertical-align: middle;\n",
              "    }\n",
              "\n",
              "    .dataframe tbody tr th {\n",
              "        vertical-align: top;\n",
              "    }\n",
              "\n",
              "    .dataframe thead th {\n",
              "        text-align: right;\n",
              "    }\n",
              "</style>\n",
              "<table border=\"1\" class=\"dataframe\">\n",
              "  <thead>\n",
              "    <tr style=\"text-align: right;\">\n",
              "      <th></th>\n",
              "      <th>preg</th>\n",
              "      <th>plas</th>\n",
              "      <th>pres</th>\n",
              "      <th>mass</th>\n",
              "      <th>pedi</th>\n",
              "      <th>age</th>\n",
              "      <th>class</th>\n",
              "    </tr>\n",
              "  </thead>\n",
              "  <tbody>\n",
              "    <tr>\n",
              "      <th>0</th>\n",
              "      <td>6.0</td>\n",
              "      <td>148.0</td>\n",
              "      <td>72.0</td>\n",
              "      <td>33.6</td>\n",
              "      <td>0.627</td>\n",
              "      <td>50</td>\n",
              "      <td>1</td>\n",
              "    </tr>\n",
              "    <tr>\n",
              "      <th>1</th>\n",
              "      <td>1.0</td>\n",
              "      <td>85.0</td>\n",
              "      <td>66.0</td>\n",
              "      <td>26.6</td>\n",
              "      <td>0.351</td>\n",
              "      <td>31</td>\n",
              "      <td>0</td>\n",
              "    </tr>\n",
              "    <tr>\n",
              "      <th>2</th>\n",
              "      <td>8.0</td>\n",
              "      <td>183.0</td>\n",
              "      <td>64.0</td>\n",
              "      <td>23.3</td>\n",
              "      <td>0.672</td>\n",
              "      <td>32</td>\n",
              "      <td>1</td>\n",
              "    </tr>\n",
              "    <tr>\n",
              "      <th>3</th>\n",
              "      <td>1.0</td>\n",
              "      <td>89.0</td>\n",
              "      <td>66.0</td>\n",
              "      <td>28.1</td>\n",
              "      <td>0.167</td>\n",
              "      <td>21</td>\n",
              "      <td>0</td>\n",
              "    </tr>\n",
              "    <tr>\n",
              "      <th>4</th>\n",
              "      <td>0.0</td>\n",
              "      <td>137.0</td>\n",
              "      <td>40.0</td>\n",
              "      <td>43.1</td>\n",
              "      <td>2.288</td>\n",
              "      <td>33</td>\n",
              "      <td>1</td>\n",
              "    </tr>\n",
              "  </tbody>\n",
              "</table>\n",
              "</div>"
            ],
            "text/plain": [
              "   preg   plas  pres  mass   pedi  age  class\n",
              "0   6.0  148.0  72.0  33.6  0.627   50      1\n",
              "1   1.0   85.0  66.0  26.6  0.351   31      0\n",
              "2   8.0  183.0  64.0  23.3  0.672   32      1\n",
              "3   1.0   89.0  66.0  28.1  0.167   21      0\n",
              "4   0.0  137.0  40.0  43.1  2.288   33      1"
            ]
          },
          "metadata": {
            "tags": []
          },
          "execution_count": 8
        }
      ]
    },
    {
      "cell_type": "code",
      "metadata": {
        "id": "I9ayYuW49_Bu",
        "colab": {
          "base_uri": "https://localhost:8080/"
        },
        "outputId": "8e8f7cce-643b-4ef6-85b3-75fc5d306356"
      },
      "source": [
        "# verificando nulls no dataset tratado\n",
        "datasetSemMissings.isnull().sum()"
      ],
      "execution_count": null,
      "outputs": [
        {
          "output_type": "execute_result",
          "data": {
            "text/plain": [
              "preg     0\n",
              "plas     0\n",
              "pres     0\n",
              "mass     0\n",
              "pedi     0\n",
              "age      0\n",
              "class    0\n",
              "dtype: int64"
            ]
          },
          "metadata": {
            "tags": []
          },
          "execution_count": 9
        }
      ]
    },
    {
      "cell_type": "markdown",
      "metadata": {
        "id": "jC8b523fC-Y0"
      },
      "source": [
        "### Normalização"
      ]
    },
    {
      "cell_type": "markdown",
      "metadata": {
        "id": "ubR2qKmwC-Y0"
      },
      "source": [
        "Você já deve ter aplicado este método no exercício da aula anterior. Vamos revisar!\n",
        "\n",
        "https://scikit-learn.org/stable/modules/generated/sklearn.preprocessing.MinMaxScaler.html"
      ]
    },
    {
      "cell_type": "code",
      "metadata": {
        "id": "3svSLV-VC-Y2",
        "colab": {
          "base_uri": "https://localhost:8080/"
        },
        "outputId": "d55e4708-2a60-447f-add2-9e54190b126e"
      },
      "source": [
        "# Transformando os dados para a mesma escala (entre 0 e 1)\n",
        "\n",
        "# Pegando apenas os dados do dataset e guardando em um array\n",
        "array = dataset.values\n",
        "\n",
        "# Separando o array em componentes de input (X) e output (Y)\n",
        "X = array[:,0:8]\n",
        "Y = array[:,8]\n",
        "\n",
        "# Gerando a nova escala (normalizando os dados)\n",
        "scaler = MinMaxScaler()\n",
        "rescaledX = scaler.fit_transform(X)\n",
        "\n",
        "# Sumarizando os dados transformados\n",
        "print(\"Dados Originais: \\n\\n\", dataset.values)\n",
        "print(\"\\nDados Normalizados: \\n\\n\", rescaledX[0:5,:])"
      ],
      "execution_count": null,
      "outputs": [
        {
          "output_type": "stream",
          "text": [
            "Dados Originais: \n",
            "\n",
            " [[  6.    148.     72.    ...   0.627  50.      1.   ]\n",
            " [  1.     85.     66.    ...   0.351  31.      0.   ]\n",
            " [  8.    183.     64.    ...   0.672  32.      1.   ]\n",
            " ...\n",
            " [  5.    121.     72.    ...   0.245  30.      0.   ]\n",
            " [  1.    126.     60.    ...   0.349  47.      1.   ]\n",
            " [  1.     93.     70.    ...   0.315  23.      0.   ]]\n",
            "\n",
            "Dados Normalizados: \n",
            "\n",
            " [[0.35294118 0.74371859 0.59016393 0.35353535 0.         0.50074516\n",
            "  0.23441503 0.48333333]\n",
            " [0.05882353 0.42713568 0.54098361 0.29292929 0.         0.39642325\n",
            "  0.11656704 0.16666667]\n",
            " [0.47058824 0.91959799 0.52459016 0.         0.         0.34724292\n",
            "  0.25362938 0.18333333]\n",
            " [0.05882353 0.44723618 0.54098361 0.23232323 0.11111111 0.41877794\n",
            "  0.03800171 0.        ]\n",
            " [0.         0.68844221 0.32786885 0.35353535 0.19858156 0.64232489\n",
            "  0.94363792 0.2       ]]\n"
          ],
          "name": "stdout"
        }
      ]
    },
    {
      "cell_type": "markdown",
      "metadata": {
        "id": "5HvVGH-Vxz80"
      },
      "source": [
        "### Padronização"
      ]
    },
    {
      "cell_type": "markdown",
      "metadata": {
        "id": "DzqRnaHrC-Y9"
      },
      "source": [
        "Você já deve ter aplicado este método no exercício da aula anterior. Vamos revisar!\n",
        "\n",
        "https://scikit-learn.org/stable/modules/generated/sklearn.preprocessing.StandardScaler.html"
      ]
    },
    {
      "cell_type": "code",
      "metadata": {
        "id": "xwXvs2zkC-Y-",
        "colab": {
          "base_uri": "https://localhost:8080/"
        },
        "outputId": "6ab264c1-4c24-488e-a196-411f131e4cc3"
      },
      "source": [
        "# Padronizando os dados (média 0 e desvio padrão 1)\n",
        "\n",
        "# Pegando apenas os dados do dataset e guardando em um array\n",
        "array = dataset.values\n",
        "\n",
        "# Separando o array em componentes de input e output\n",
        "X = array[:,0:8]\n",
        "Y = array[:,8]\n",
        "\n",
        "# Padronizando os dados\n",
        "scaler = StandardScaler()\n",
        "standardX = scaler.fit_transform(X)\n",
        "\n",
        "# Sumarizando os dados transformados\n",
        "print(\"Dados Originais: \\n\\n\", dataset.values)\n",
        "print(\"\\nDados Padronizados: \\n\\n\", standardX[0:5,:])"
      ],
      "execution_count": null,
      "outputs": [
        {
          "output_type": "stream",
          "text": [
            "Dados Originais: \n",
            "\n",
            " [[  6.    148.     72.    ...   0.627  50.      1.   ]\n",
            " [  1.     85.     66.    ...   0.351  31.      0.   ]\n",
            " [  8.    183.     64.    ...   0.672  32.      1.   ]\n",
            " ...\n",
            " [  5.    121.     72.    ...   0.245  30.      0.   ]\n",
            " [  1.    126.     60.    ...   0.349  47.      1.   ]\n",
            " [  1.     93.     70.    ...   0.315  23.      0.   ]]\n",
            "\n",
            "Dados Padronizados: \n",
            "\n",
            " [[ 0.63994726  0.84832379  0.14964075  0.90726993 -0.69289057  0.20401277\n",
            "   0.46849198  1.4259954 ]\n",
            " [-0.84488505 -1.12339636 -0.16054575  0.53090156 -0.69289057 -0.68442195\n",
            "  -0.36506078 -0.19067191]\n",
            " [ 1.23388019  1.94372388 -0.26394125 -1.28821221 -0.69289057 -1.10325546\n",
            "   0.60439732 -0.10558415]\n",
            " [-0.84488505 -0.99820778 -0.16054575  0.15453319  0.12330164 -0.49404308\n",
            "  -0.92076261 -1.04154944]\n",
            " [-1.14185152  0.5040552  -1.50468724  0.90726993  0.76583594  1.4097456\n",
            "   5.4849091  -0.0204964 ]]\n"
          ],
          "name": "stdout"
        }
      ]
    },
    {
      "cell_type": "markdown",
      "metadata": {
        "id": "wjTsTfZtC-Y_"
      },
      "source": [
        "### Binarização"
      ]
    },
    {
      "cell_type": "markdown",
      "metadata": {
        "id": "ZFU-wwnTC-ZA"
      },
      "source": [
        "https://scikit-learn.org/stable/modules/generated/sklearn.preprocessing.Binarizer.html"
      ]
    },
    {
      "cell_type": "markdown",
      "metadata": {
        "id": "m1OFzWOOC-ZC"
      },
      "source": [
        "A Binarização transforma os dados em valores binários (0 ou 1). Podemos definir um valor de corte em nossos dados (threshold) e definimos que todos os valores acima do threshold serão marcados como sendo 1 e todos valores iguais ou abaixo do threshold serão marcados como sendo 0. Isso é útil quando temos valores de probabilidades e queremos transformar os dados em algo com mais significado."
      ]
    },
    {
      "cell_type": "code",
      "metadata": {
        "id": "0ju84JADC-ZC",
        "colab": {
          "base_uri": "https://localhost:8080/"
        },
        "outputId": "c03a4e78-d789-43fe-e276-897b3d02e030"
      },
      "source": [
        "# Binarização\n",
        "\n",
        "# Import da função\n",
        "from sklearn.preprocessing import Binarizer\n",
        "\n",
        "# Pegando apenas os dados do dataset e guardando em um array\n",
        "array = dataset.values\n",
        "\n",
        "# Separando o array em componentes de input e output\n",
        "X = array[:,0:8]\n",
        "Y = array[:,8]\n",
        "\n",
        "# Gerando a binarização\n",
        "\n",
        "# acima de 0.5 converte para 1, abaixo para 0 (útil para conversão de saídas de probabilidades para classes)\n",
        "binarizer = Binarizer(threshold = 0.5)\n",
        "binaryX = binarizer.fit_transform(X)\n",
        "\n",
        "# Sumarizando os dados transformados\n",
        "print(\"Dados Originais: \\n\\n\", dataset.values)\n",
        "print(\"\\nDados Binarizados: \\n\\n\", binaryX[0:5,:])"
      ],
      "execution_count": null,
      "outputs": [
        {
          "output_type": "stream",
          "text": [
            "Dados Originais: \n",
            "\n",
            " [[  6.    148.     72.    ...   0.627  50.      1.   ]\n",
            " [  1.     85.     66.    ...   0.351  31.      0.   ]\n",
            " [  8.    183.     64.    ...   0.672  32.      1.   ]\n",
            " ...\n",
            " [  5.    121.     72.    ...   0.245  30.      0.   ]\n",
            " [  1.    126.     60.    ...   0.349  47.      1.   ]\n",
            " [  1.     93.     70.    ...   0.315  23.      0.   ]]\n",
            "\n",
            "Dados Binarizados: \n",
            "\n",
            " [[1. 1. 1. 1. 0. 1. 1. 1.]\n",
            " [1. 1. 1. 1. 0. 1. 0. 1.]\n",
            " [1. 1. 1. 0. 0. 1. 1. 1.]\n",
            " [1. 1. 1. 1. 1. 1. 0. 1.]\n",
            " [0. 1. 1. 1. 1. 1. 1. 1.]]\n"
          ],
          "name": "stdout"
        }
      ]
    },
    {
      "cell_type": "markdown",
      "metadata": {
        "id": "_ua8MMb_ruUQ"
      },
      "source": [
        "## Prática 2: Transformações Categóricas com dataset Breast Cancer"
      ]
    },
    {
      "cell_type": "code",
      "metadata": {
        "id": "Ql99Azvcs24p"
      },
      "source": [
        "# imports\n",
        "from pandas import read_csv\n",
        "from sklearn.preprocessing import LabelEncoder\n",
        "from sklearn.preprocessing import OrdinalEncoder\n",
        "from sklearn.preprocessing import OneHotEncoder"
      ],
      "execution_count": null,
      "outputs": []
    },
    {
      "cell_type": "markdown",
      "metadata": {
        "id": "PpKBokyEAOlH"
      },
      "source": [
        "### Carga do Dataset"
      ]
    },
    {
      "cell_type": "code",
      "metadata": {
        "id": "YOLShttprv0I",
        "colab": {
          "base_uri": "https://localhost:8080/"
        },
        "outputId": "136b304d-59a1-4aa0-9edc-0c8473cf81f9"
      },
      "source": [
        "# Carrega arquivo csv usando Pandas usando uma URL\n",
        "\n",
        "# Informa a URL de importação do dataset\n",
        "url = \"https://raw.githubusercontent.com/jbrownlee/Datasets/master/breast-cancer.csv\"\n",
        "\n",
        "# Lê o arquivo utilizando as colunas informadas\n",
        "dataset = read_csv(url, header=None)\n",
        "\n",
        "# exibindo as primeiras linhas\n",
        "print(dataset.head())\n",
        "\n",
        "# exibindo as dimensões do dataset\n",
        "print(dataset.shape)\n",
        "\n",
        "# exibindo os tipos das colunas\n",
        "print(dataset.dtypes)"
      ],
      "execution_count": null,
      "outputs": [
        {
          "output_type": "stream",
          "text": [
            "         0          1        2  ...           7      8                       9\n",
            "0  '40-49'  'premeno'  '15-19'  ...   'left_up'   'no'     'recurrence-events'\n",
            "1  '50-59'     'ge40'  '15-19'  ...   'central'   'no'  'no-recurrence-events'\n",
            "2  '50-59'     'ge40'  '35-39'  ...  'left_low'   'no'     'recurrence-events'\n",
            "3  '40-49'  'premeno'  '35-39'  ...  'left_low'  'yes'  'no-recurrence-events'\n",
            "4  '40-49'  'premeno'  '30-34'  ...  'right_up'   'no'     'recurrence-events'\n",
            "\n",
            "[5 rows x 10 columns]\n",
            "(286, 10)\n",
            "0    object\n",
            "1    object\n",
            "2    object\n",
            "3    object\n",
            "4    object\n",
            "5    object\n",
            "6    object\n",
            "7    object\n",
            "8    object\n",
            "9    object\n",
            "dtype: object\n"
          ],
          "name": "stdout"
        }
      ]
    },
    {
      "cell_type": "markdown",
      "metadata": {
        "id": "x8BUePNGASx_"
      },
      "source": [
        "### Tratamento de Missings"
      ]
    },
    {
      "cell_type": "code",
      "metadata": {
        "id": "rySMEsaHtFX2",
        "colab": {
          "base_uri": "https://localhost:8080/"
        },
        "outputId": "1ccd511e-14d6-4478-8ac6-a092873edf60"
      },
      "source": [
        "# verificando nulls no dataset\n",
        "dataset.isnull().sum()"
      ],
      "execution_count": null,
      "outputs": [
        {
          "output_type": "execute_result",
          "data": {
            "text/plain": [
              "0    0\n",
              "1    0\n",
              "2    0\n",
              "3    0\n",
              "4    8\n",
              "5    0\n",
              "6    0\n",
              "7    1\n",
              "8    0\n",
              "9    0\n",
              "dtype: int64"
            ]
          },
          "metadata": {
            "tags": []
          },
          "execution_count": 15
        }
      ]
    },
    {
      "cell_type": "code",
      "metadata": {
        "id": "A5YunpwJyXTR",
        "colab": {
          "base_uri": "https://localhost:8080/"
        },
        "outputId": "cc051a41-a128-45a2-ee0d-d3e9e5332209"
      },
      "source": [
        "# exibindo as dimensões do dataset\n",
        "print(dataset.shape)\n",
        "\n",
        "# eliminando linhas que tenham ALGUM valor missing\n",
        "dataset.dropna(how='any', inplace=True)\n",
        "\n",
        "# exibindo as dimensões do dataset\n",
        "print(dataset.shape)"
      ],
      "execution_count": null,
      "outputs": [
        {
          "output_type": "stream",
          "text": [
            "(286, 10)\n",
            "(277, 10)\n"
          ],
          "name": "stdout"
        }
      ]
    },
    {
      "cell_type": "code",
      "metadata": {
        "id": "YtRRynd8sbCB"
      },
      "source": [
        "# Pegando apenas os dados do dataset e guardando em um array\n",
        "array = dataset.values"
      ],
      "execution_count": null,
      "outputs": []
    },
    {
      "cell_type": "markdown",
      "metadata": {
        "id": "5dx8YtPUAXY7"
      },
      "source": [
        "### Codificação Ordinal"
      ]
    },
    {
      "cell_type": "code",
      "metadata": {
        "id": "8jXM0CSQsnyw",
        "colab": {
          "base_uri": "https://localhost:8080/"
        },
        "outputId": "e9458c75-0c1b-4b8b-85ce-71856f5581f7"
      },
      "source": [
        "# separando o array em componentes de input e output\n",
        "X = array[:,0:9]\n",
        "y = array[:,9]\n",
        "\n",
        "# ordinal encoding para os atributos X\n",
        "ordinal_encoder = OrdinalEncoder()\n",
        "X = ordinal_encoder.fit_transform(X)\n",
        "\n",
        "# label encoding para o atributo y\n",
        "label_encoder = LabelEncoder()\n",
        "y = label_encoder.fit_transform(y)\n",
        "\n",
        "# exibindo os dados transformados\n",
        "print(X[:5, :]) # 5 primeiras linhas, todas as colunas\n",
        "print(y[:5]) # 5 primeiras linhas"
      ],
      "execution_count": null,
      "outputs": [
        {
          "output_type": "stream",
          "text": [
            "[[2. 2. 2. 0. 1. 2. 1. 2. 0.]\n",
            " [3. 0. 2. 0. 0. 0. 1. 0. 0.]\n",
            " [3. 0. 6. 0. 0. 1. 0. 1. 0.]\n",
            " [2. 2. 6. 0. 1. 2. 1. 1. 1.]\n",
            " [2. 2. 5. 4. 1. 1. 0. 4. 0.]]\n",
            "[1 0 1 0 1]\n"
          ],
          "name": "stdout"
        }
      ]
    },
    {
      "cell_type": "markdown",
      "metadata": {
        "id": "Ha0Pr6-vBPRg"
      },
      "source": [
        "### One-hot encoding"
      ]
    },
    {
      "cell_type": "code",
      "metadata": {
        "id": "8OG36OkBBPY1",
        "colab": {
          "base_uri": "https://localhost:8080/"
        },
        "outputId": "6ca53b7f-eb69-4ca6-b0bd-1117063e69f3"
      },
      "source": [
        "# separando o array em componentes de input e output\n",
        "X = array[:,0:9]\n",
        "y = array[:,9]\n",
        "\n",
        "# one hot encode para os atributos X\n",
        "onehot_encoder = OneHotEncoder(sparse=False)\n",
        "X = onehot_encoder.fit_transform(X)\n",
        "\n",
        "# label encoding para o atributo y - Idêntico ao exemplo anterior\n",
        "\n",
        "# exibindo os dados transformados\n",
        "print(X[:5, :]) # 5 primeiras linhas, todas as colunas"
      ],
      "execution_count": null,
      "outputs": [
        {
          "output_type": "stream",
          "text": [
            "[[0. 0. 1. 0. 0. 0. 0. 0. 1. 0. 0. 1. 0. 0. 0. 0. 0. 0. 0. 0. 1. 0. 0. 0.\n",
            "  0. 0. 0. 0. 1. 0. 0. 1. 0. 1. 0. 0. 1. 0. 0. 1. 0.]\n",
            " [0. 0. 0. 1. 0. 0. 1. 0. 0. 0. 0. 1. 0. 0. 0. 0. 0. 0. 0. 0. 1. 0. 0. 0.\n",
            "  0. 0. 0. 1. 0. 1. 0. 0. 0. 1. 1. 0. 0. 0. 0. 1. 0.]\n",
            " [0. 0. 0. 1. 0. 0. 1. 0. 0. 0. 0. 0. 0. 0. 0. 1. 0. 0. 0. 0. 1. 0. 0. 0.\n",
            "  0. 0. 0. 1. 0. 0. 1. 0. 1. 0. 0. 1. 0. 0. 0. 1. 0.]\n",
            " [0. 0. 1. 0. 0. 0. 0. 0. 1. 0. 0. 0. 0. 0. 0. 1. 0. 0. 0. 0. 1. 0. 0. 0.\n",
            "  0. 0. 0. 0. 1. 0. 0. 1. 0. 1. 0. 1. 0. 0. 0. 0. 1.]\n",
            " [0. 0. 1. 0. 0. 0. 0. 0. 1. 0. 0. 0. 0. 0. 1. 0. 0. 0. 0. 0. 0. 0. 0. 0.\n",
            "  1. 0. 0. 0. 1. 0. 1. 0. 1. 0. 0. 0. 0. 0. 1. 1. 0.]]\n"
          ],
          "name": "stdout"
        }
      ]
    },
    {
      "cell_type": "markdown",
      "metadata": {
        "id": "krxJado4BPgC"
      },
      "source": [
        "### Dummy encoding"
      ]
    },
    {
      "cell_type": "code",
      "metadata": {
        "id": "k4E5ReqgBPmu",
        "colab": {
          "base_uri": "https://localhost:8080/"
        },
        "outputId": "6a0b8af6-fd8c-4c91-84fd-f052ea66e590"
      },
      "source": [
        "# separando o array em componentes de input e output\n",
        "X = array[:,0:9]\n",
        "y = array[:,9]\n",
        "\n",
        "# one hot encode para os atributos X\n",
        "onehot_encoder = OneHotEncoder(drop='first', sparse=False)\n",
        "X = onehot_encoder.fit_transform(X)\n",
        "\n",
        "# label encoding para o atributo y - Idêntico ao exemplo anterior\n",
        "\n",
        "# exibindo os dados transformados\n",
        "print(X[:5, :]) # 5 primeiras linhas, todas as colunas"
      ],
      "execution_count": null,
      "outputs": [
        {
          "output_type": "stream",
          "text": [
            "[[0. 1. 0. 0. 0. 0. 1. 0. 1. 0. 0. 0. 0. 0. 0. 0. 0. 0. 0. 0. 0. 0. 0. 1.\n",
            "  0. 1. 1. 0. 1. 0. 0. 0.]\n",
            " [0. 0. 1. 0. 0. 0. 0. 0. 1. 0. 0. 0. 0. 0. 0. 0. 0. 0. 0. 0. 0. 0. 0. 0.\n",
            "  0. 0. 1. 0. 0. 0. 0. 0.]\n",
            " [0. 0. 1. 0. 0. 0. 0. 0. 0. 0. 0. 0. 1. 0. 0. 0. 0. 0. 0. 0. 0. 0. 0. 0.\n",
            "  1. 0. 0. 1. 0. 0. 0. 0.]\n",
            " [0. 1. 0. 0. 0. 0. 1. 0. 0. 0. 0. 0. 1. 0. 0. 0. 0. 0. 0. 0. 0. 0. 0. 1.\n",
            "  0. 1. 1. 1. 0. 0. 0. 1.]\n",
            " [0. 1. 0. 0. 0. 0. 1. 0. 0. 0. 0. 1. 0. 0. 0. 0. 0. 0. 0. 0. 1. 0. 0. 1.\n",
            "  1. 0. 0. 0. 0. 0. 1. 0.]]\n"
          ],
          "name": "stdout"
        }
      ]
    }
  ]
}